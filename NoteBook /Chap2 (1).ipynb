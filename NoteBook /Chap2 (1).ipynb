{
 "cells": [
  {
   "cell_type": "code",
   "execution_count": 10,
   "id": "a82c959c-561b-499f-9b52-4379f9afec79",
   "metadata": {},
   "outputs": [
    {
     "name": "stdout",
     "output_type": "stream",
     "text": [
      "f(2.3) = 9.715\n",
      "x = 2.3 n'est pas une racine de f(x)\n"
     ]
    }
   ],
   "source": [
    "#exo1\n",
    "x = 2.3\n",
    "f_x = x**2 - 0.25 * x + 5\n",
    "print(\"f(2.3) =\", f_x)\n",
    "\n",
    "if abs(f_x) < 1e-8:\n",
    "    print(\"x = 2.3 est une racine de f(x)\")\n",
    "else:\n",
    "    print(\"x = 2.3 n'est pas une racine de f(x)\")\n"
   ]
  },
  {
   "cell_type": "code",
   "execution_count": 5,
   "id": "b982b7ef-b83b-4679-a102-06b715e4c085",
   "metadata": {},
   "outputs": [
    {
     "name": "stdout",
     "output_type": "stream",
     "text": [
      "Gauche : (-0.7071067811865474+0.7071067811865477j)\n",
      "Droite : (-0.7071067811865475+0.7071067811865476j)\n",
      "Différence : 1.5700924586837752e-16\n"
     ]
    }
   ],
   "source": [
    "# exo2 \n",
    "import cmath\n",
    "import math\n",
    "\n",
    "# Choix de x et n\n",
    "x = math.pi / 4  # 45 degrés\n",
    "n = 3\n",
    "\n",
    "# Partie gauche : (cos x + i sin x)^n\n",
    "z = cmath.rect(1, x)  # convertit angle x en forme complexe\n",
    "lhs = z ** n\n",
    "\n",
    "# Partie droite : cos(nx) + i sin(nx)\n",
    "rhs = cmath.cos(n * x) + 1j * cmath.sin(n * x)\n",
    "\n",
    "print(\"Gauche :\", lhs)\n",
    "print(\"Droite :\", rhs)\n",
    "print(\"Différence :\", abs(lhs - rhs))\n"
   ]
  },
  {
   "cell_type": "code",
   "execution_count": 6,
   "id": "ce7be1db-f7b0-471e-8a85-ff2c84c44f10",
   "metadata": {},
   "outputs": [
    {
     "name": "stdout",
     "output_type": "stream",
     "text": [
      "e^(ix) = (0.5000000000000001+0.8660254037844386j)\n",
      "cos(x) + i*sin(x) = (0.5000000000000001+0.8660254037844386j)\n",
      "Différence = 0.0\n"
     ]
    }
   ],
   "source": [
    "# Exo 4\n",
    "\n",
    "x = math.pi / 3  # 60 degrés\n",
    "\n",
    "# Partie gauche : e^(ix)\n",
    "lhs = cmath.exp(1j * x)\n",
    "\n",
    "# Partie droite : cos(x) + i sin(x)\n",
    "rhs = cmath.cos(x) + 1j * cmath.sin(x)\n",
    "\n",
    "print(\"e^(ix) =\", lhs)\n",
    "print(\"cos(x) + i*sin(x) =\", rhs)\n",
    "print(\"Différence =\", abs(lhs - rhs))\n"
   ]
  },
  {
   "cell_type": "code",
   "execution_count": 7,
   "id": "5a765053-0858-4ed1-9d9d-9ad5fe2361cc",
   "metadata": {},
   "outputs": [
    {
     "name": "stdout",
     "output_type": "stream",
     "text": [
      "Cas u = 1 :\n",
      "not u => False\n",
      "u and True => True\n",
      "u or False => 1\n",
      "\n",
      "Cas u = 0 :\n",
      "not u => True\n",
      "u and True => 0\n",
      "u or False => False\n",
      "\n",
      "Cas u = -1 :\n",
      "not u => False\n",
      "u and True => True\n",
      "u or False => -1\n"
     ]
    }
   ],
   "source": [
    "\n",
    "#Exo5 \n",
    "# Hypothèse : comportement de l'opérateur `not`, `and`, `or` avec différentes valeurs de u\n",
    "\n",
    "u = 1\n",
    "print(\"Cas u = 1 :\")\n",
    "print(\"not u =>\", not u)     # False car bool(1) = True\n",
    "print(\"u and True =>\", u and True)  # True\n",
    "print(\"u or False =>\", u or False)  # 1 (équivaut à True)\n",
    "\n",
    "u = 0\n",
    "print(\"\\nCas u = 0 :\")\n",
    "print(\"not u =>\", not u)     # True car bool(0) = False\n",
    "print(\"u and True =>\", u and True)  # 0 (équivaut à False)\n",
    "print(\"u or False =>\", u or False)  # False\n",
    "\n",
    "u = -1\n",
    "print(\"\\nCas u = -1 :\")\n",
    "print(\"not u =>\", not u)     # False (bool(-1) = True)\n",
    "print(\"u and True =>\", u and True)  # True\n",
    "print(\"u or False =>\", u or False)  # -1\n"
   ]
  },
  {
   "cell_type": "code",
   "execution_count": 9,
   "id": "17641f83-a438-493a-8f36-e4a42544eefc",
   "metadata": {},
   "outputs": [
    {
     "name": "stdout",
     "output_type": "stream",
     "text": [
      "implication(False, False) = True\n",
      "implication(False, True)  = True\n",
      "implication(True, True)   = True\n",
      "implication(True, False)  = False\n"
     ]
    }
   ],
   "source": [
    "# Exo 5 \n",
    "\n",
    "def implication(A: bool, B: bool) -> bool:\n",
    "    return (not A) or B\n",
    "\n",
    "# Quelques cas de test\n",
    "print(\"implication(False, False) =\", implication(False, False))  # True\n",
    "print(\"implication(False, True)  =\", implication(False, True))   # True\n",
    "print(\"implication(True, True)   =\", implication(True, True))    # True\n",
    "print(\"implication(True, False)  =\", implication(True, False))   # False\n"
   ]
  },
  {
   "cell_type": "code",
   "execution_count": 12,
   "id": "33458cd2-61ee-4819-8384-5ad85e00f502",
   "metadata": {},
   "outputs": [
    {
     "name": "stdout",
     "output_type": "stream",
     "text": [
      "=== Half Adder ===\n",
      "p=0, q=0 => sum=0, carry=0\n",
      "p=0, q=1 => sum=1, carry=0\n",
      "p=1, q=0 => sum=1, carry=0\n",
      "p=1, q=1 => sum=0, carry=1\n"
     ]
    }
   ],
   "source": [
    "def half_adder(p: int, q: int) -> tuple[int, int]:\n",
    "    \"\"\"Implémente un half adder : retourne (sum, carry)\"\"\"\n",
    "    sum_ = p ^ q\n",
    "    carry = p & q\n",
    "    return sum_, carry\n",
    "\n",
    "#  Test\n",
    "print(\"=== Half Adder ===\")\n",
    "for p in [0, 1]:\n",
    "    for q in [0, 1]:\n",
    "        s, c = half_adder(p, q)\n",
    "        print(f\"p={p}, q={q} => sum={s}, carry={c}\")\n"
   ]
  },
  {
   "cell_type": "code",
   "execution_count": 13,
   "id": "a33a16e9-cc1f-4465-b5b9-bff861f7d13c",
   "metadata": {},
   "outputs": [
    {
     "name": "stdout",
     "output_type": "stream",
     "text": [
      "\n",
      "=== Full Adder ===\n",
      "A=0, B=0, Cin=0 => Sum=0, Cout=0\n",
      "A=0, B=0, Cin=1 => Sum=1, Cout=0\n",
      "A=0, B=1, Cin=0 => Sum=1, Cout=0\n",
      "A=0, B=1, Cin=1 => Sum=0, Cout=1\n",
      "A=1, B=0, Cin=0 => Sum=1, Cout=0\n",
      "A=1, B=0, Cin=1 => Sum=0, Cout=1\n",
      "A=1, B=1, Cin=0 => Sum=0, Cout=1\n",
      "A=1, B=1, Cin=1 => Sum=1, Cout=1\n"
     ]
    }
   ],
   "source": [
    "def full_adder(a: int, b: int, carry_in: int) -> tuple[int, int]:\n",
    "    \"\"\"Implémente un full adder : retourne (sum, carry_out)\"\"\"\n",
    "    sum1, carry1 = half_adder(a, b)\n",
    "    sum_, carry2 = half_adder(sum1, carry_in)\n",
    "    carry_out = carry1 | carry2\n",
    "    return sum_, carry_out\n",
    "\n",
    "# Test\n",
    "print(\"\\n=== Full Adder ===\")\n",
    "for a in [0, 1]:\n",
    "    for b in [0, 1]:\n",
    "        for cin in [0, 1]:\n",
    "            s, c = full_adder(a, b, cin)\n",
    "            print(f\"A={a}, B={b}, Cin={cin} => Sum={s}, Cout={c}\")\n"
   ]
  },
  {
   "cell_type": "code",
   "execution_count": null,
   "id": "e8da212f-fb6b-4e79-9889-a157f8d25d98",
   "metadata": {},
   "outputs": [],
   "source": []
  }
 ],
 "metadata": {
  "kernelspec": {
   "display_name": "anaconda-panel-2023.05-py310",
   "language": "python",
   "name": "conda-env-anaconda-panel-2023.05-py310-py"
  },
  "language_info": {
   "codemirror_mode": {
    "name": "ipython",
    "version": 3
   },
   "file_extension": ".py",
   "mimetype": "text/x-python",
   "name": "python",
   "nbconvert_exporter": "python",
   "pygments_lexer": "ipython3",
   "version": "3.11.5"
  }
 },
 "nbformat": 4,
 "nbformat_minor": 5
}
